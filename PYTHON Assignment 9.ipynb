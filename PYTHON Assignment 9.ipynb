{
 "cells": [
  {
   "cell_type": "markdown",
   "metadata": {
    "id": "2D1aG4Erw7hm"
   },
   "source": [
    "# PYTHON - Assignment 9\n",
    "\n",
    "1.\t(B) struct\n",
    "2.\t(C) 1_no\n",
    "3.\t(A) in\n",
    "4.\t(A) Left to right\n",
    "5.\t(C) iv – iii – ii – i\n",
    "6.\t(C) 0.3333……\n",
    "7.\t(B) str\n",
    "8.\t(A) Division and multiplication have same precedence in python.                                                           \n",
    "    (B) Python’s operators’ precedence is based on PEDMAS.                                                                    \n",
    "    (D) In case of operators’ having same precedence, the one on the left side is executed first.                            \n",
    "9.\t(A) abc = 1,000,000                                                                                                        \n",
    "    (C) a,b,c = 1000, 2000, 3000                                                                                              \n",
    "    (D) a_b_c = 1,000,000\n",
    "10. (A) x** 4** 4                                                                                                             \n",
    "    (C) x^16\n",
    "11.\t**List :**                                                                                                        \n",
    "    •\tList is a collection of objects in python.                                                                  \n",
    "    •\tEach element of a list can be of any data type in python.                                                  \n",
    "    •\tLists are mutable. Lists can be changed, modified, sliced and indexed.                                           \n",
    "    •\tLists are declared by using square brackets. E.g., list_1 = [1,2.3,’a’,’Boy’]                                    \n",
    "    **Tuple:**                                                                                                           \n",
    "    •\tTuples are similar to lists, i.e. they are a collection of objects in python.                                         \n",
    "    •\tEach element of a tuple can be of any data type in python.                                                      \n",
    "    •\tTuples are immutable. i.e. They cannot be changed or modified.                                                     \n",
    "    •\tTuples are declared by using parentheses. E.g., tup_1 = (1,2.3,’a’,’Boy’)                                            \n",
    "    **Dictionary:**                                                                                                \n",
    "    •\tDictionary is a collection of key : value pairs of  different data types in python.                    \n",
    "    •\tKeys of dictionary are immutable, i.e. they cannot be changed or modified whereas the Values associated to different Keys are mutable, i.e. they can be changed or modified.                                                  \n",
    "    •\tA tuple can be a key of a dictionary but a list cannot be a key of a dictionary.                             \n",
    "    •\tKeys of a dictionary must be unique, i.e. they should not have repetitions.                                       \n",
    "    •\tDictionaries are declared  using curly brackets. E.g., dict_1 = {‘Key1’ : 5, ‘Key2’ : [1,2,’a’], (add, ph.) : [‘13B Baker Street’, ‘99999999’]}                                                                                                   \n",
    "    **Set:**                                                                                                                   \n",
    "    •\tSet is similar to a list or a tuple, i.e. it is a collection of objects in python.                                   \n",
    "    •\tSets are unordered collection of elements unlike lists or tuples, i.e., they rearrange their elements in increasing order.\n",
    "    •\tSets are mutable but they cannot be indexed because they are unordered. But they can be changed or modified.          \n",
    "    •\tSets are declared using curly brackets. E.g., set_1 = {3,1,2}. Print(set_1) will give: {1,2,3}                    \n",
    "12. No, Strings are immutable in python. You cannot change any character of a string, but you can append two strings by adding     them.To change the string you have to create a new sring variable and add the required changes iteratively. However to change the characters you can use the function replace(). But it doesn't change the string, it returns a new string with changes."
   ]
  },
  {
   "cell_type": "code",
   "execution_count": 1,
   "metadata": {
    "id": "mJckcAMgw7h4",
    "outputId": "34983941-80e1-43b7-f110-f7d7f4aca26c"
   },
   "outputs": [
    {
     "data": {
      "text/plain": [
       "'I Love Python'"
      ]
     },
     "execution_count": 1,
     "metadata": {},
     "output_type": "execute_result"
    }
   ],
   "source": [
    "str1 = \"I+Love+Python\"\n",
    "str2 = str1.replace('+', ' ')\n",
    "str2"
   ]
  },
  {
   "cell_type": "markdown",
   "metadata": {
    "id": "sB302UeSw7h9"
   },
   "source": [
    "13. The ord() function returns the number representing the unicode code of a specified character. eg., ord('h') returns 104   \n",
    "    which is unicode of character 'h'.                                                                                             type() functions returns the data type of a variable in python. eg.:    "
   ]
  },
  {
   "cell_type": "code",
   "execution_count": 2,
   "metadata": {
    "id": "FBjFyGmmw7h-",
    "outputId": "beabc247-c3b3-4dca-8b37-657c0ce4ae78"
   },
   "outputs": [
    {
     "name": "stdout",
     "output_type": "stream",
     "text": [
      "<class 'int'>\n",
      "<class 'float'>\n",
      "<class 'str'>\n",
      "<class 'str'>\n",
      "<class 'list'>\n"
     ]
    }
   ],
   "source": [
    "print(type(4))\n",
    "print(type(2.35))\n",
    "print(type('Hi'))\n",
    "print(type('l'))\n",
    "print(type([1,2,['hello','world']]))"
   ]
  },
  {
   "cell_type": "markdown",
   "metadata": {
    "id": "AqIhad9tw7iA"
   },
   "source": [
    "14. **Answer is as follows:**"
   ]
  },
  {
   "cell_type": "code",
   "execution_count": 3,
   "metadata": {
    "id": "N2GslPeVw7iA",
    "outputId": "307bd35c-3190-45ab-ef6c-02aa11feb2aa"
   },
   "outputs": [
    {
     "name": "stdout",
     "output_type": "stream",
     "text": [
      "Enter the value of coefficient of x^2, a : 8\n",
      "Enter the value of coefficient of x, b : 6\n",
      "Enter the value of constant term, c : 4\n",
      "x = (-0.37499999999999994+0.5994789404140899j), (-0.37500000000000006-0.5994789404140899j)\n"
     ]
    }
   ],
   "source": [
    "a = float(input(\"Enter the value of coefficient of x^2, a : \"))\n",
    "b = float(input(\"Enter the value of coefficient of x, b : \"))\n",
    "c = float(input(\"Enter the value of constant term, c : \"))\n",
    "\n",
    "if a == 0:\n",
    "    print(\"Invalid input. a cannot be equal to 0\")\n",
    "else:\n",
    "    x1 = (-b + ((b**2 - 4*a*c)**0.5))/(2*a)          # First root of x\n",
    "    x2 = (-b - ((b**2 - 4*a*c)**0.5))/(2*a)          # Second root of x\n",
    "    print(\"x = {}, {}\".format(x1, x2))"
   ]
  },
  {
   "cell_type": "markdown",
   "metadata": {
    "id": "HuwKUsc3w7iC"
   },
   "source": [
    "15. **Answer is as follows :**"
   ]
  },
  {
   "cell_type": "code",
   "execution_count": 6,
   "metadata": {
    "id": "DJ0GHS8iw7iC",
    "outputId": "6d94cdb7-be8f-4752-a291-4740863e2d16"
   },
   "outputs": [
    {
     "name": "stdout",
     "output_type": "stream",
     "text": [
      "Enter the value of n : 4\n",
      "Sum of first 4 natural numbers is = 10\n"
     ]
    }
   ],
   "source": [
    "n = int(input(\"Enter the value of n : \"))\n",
    "if n < 0: print(\"Invalid Input\")\n",
    "elif n == 0: print(\"Sum of first {} natural numbers is = 0\".format(n))\n",
    "else: print(\"Sum of first {} natural numbers is = {}\".format(n, n*(n+1)//2))"
   ]
  }
 ],
 "metadata": {
  "colab": {
   "name": "PYTHON WORKSHEET 2_ANSWER KEYS.ipynb",
   "provenance": []
  },
  "kernelspec": {
   "display_name": "Python 3",
   "language": "python",
   "name": "python3"
  },
  "language_info": {
   "codemirror_mode": {
    "name": "ipython",
    "version": 3
   },
   "file_extension": ".py",
   "mimetype": "text/x-python",
   "name": "python",
   "nbconvert_exporter": "python",
   "pygments_lexer": "ipython3",
   "version": "3.9.0"
  }
 },
 "nbformat": 4,
 "nbformat_minor": 1
}
